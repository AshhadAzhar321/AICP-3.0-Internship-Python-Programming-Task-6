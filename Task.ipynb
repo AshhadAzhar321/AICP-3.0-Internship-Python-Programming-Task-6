{
 "cells": [
  {
   "cell_type": "code",
   "execution_count": 47,
   "id": "86260dcb",
   "metadata": {},
   "outputs": [],
   "source": [
    "class sack: #Sack class\n",
    "    def __init__(self, letter, weight):\n",
    "        self.letter = letter\n",
    "        self.weight = weight\n",
    "        self.correct = True\n",
    "        self.rejection_reasons = []\n",
    "        self.__check()\n",
    "        \n",
    "    def __check(self): #Private function to check whether the sack is up to standard or not, saves if it is or isn't and reasons\n",
    "        if self.letter not in [\"C\", \"G\", \"S\"]:\n",
    "            self.correct = False\n",
    "            self.rejection_reasons.append(\"Wrong letter on sack\")\n",
    "\n",
    "        if (self.letter == \"G\" or self.letter == \"S\") and (self.weight < 49.9 or self.weight > 50.1):\n",
    "            self.correct = False\n",
    "            if self.weight < 49.9:\n",
    "                self.rejection_reasons.append(\"Weight less than required\")\n",
    "            else:\n",
    "                self.rejection_reasons.append(\"Weight greater than required\")\n",
    "\n",
    "        if self.letter == \"C\" and (self.weight < 24.9 or self.weight > 25.1):\n",
    "            self.correct = False\n",
    "            if self.weight < 24.9:\n",
    "                self.rejection_reasons.append(\"Weight less than required\")\n",
    "            else:\n",
    "                self.rejection_reasons.append(\"Weight greater than required\")\n"
   ]
  },
  {
   "cell_type": "code",
   "execution_count": 48,
   "id": "e3310ab7",
   "metadata": {},
   "outputs": [],
   "source": [
    "class customer_order:\n",
    "    def __init__(self):\n",
    "        self.total_weight = 0\n",
    "        self.rejections = 0\n",
    "        self.special_packs = 0\n",
    "        self.order_list = []\n",
    "        self.no_of_S = 0\n",
    "        self.no_of_G = 0\n",
    "        self.no_of_C = 0\n",
    "        self.discount_cost = 0\n",
    "        self.cost = 0\n",
    "        self.__order()\n",
    "        self.__calc()\n",
    "        self.__price()\n",
    "        \n",
    "    def __order(self): #Private function to take order from customer\n",
    "        while True:\n",
    "            letter = input(\"Please input which type of building material you require(S,G,C) or enter 0 to exit: \")\n",
    "            if letter == \"0\":\n",
    "                break\n",
    "            try:\n",
    "                weight = float(input(\"Please input weight of material: \"))\n",
    "            except:\n",
    "                print(\"Wrong input, try again.\")\n",
    "                continue\n",
    "            obj = sack(letter, weight)\n",
    "            self.order_list.append(obj)\n",
    "            \n",
    "    def __calc(self): #Private function to check type of sacks, total weight, and number of rejections\n",
    "        total = 0\n",
    "        rejections = 0\n",
    "        for i in self.order_list:\n",
    "            if i.correct == True:\n",
    "                total = total + i.weight\n",
    "                \n",
    "                if i.letter == \"S\":\n",
    "                    self.no_of_S = self.no_of_S + 1\n",
    "                elif i.letter == \"G\":\n",
    "                    self.no_of_G = self.no_of_G + 1\n",
    "                else:\n",
    "                    self.no_of_C = self.no_of_C + 1\n",
    "                \n",
    "            else:\n",
    "                rejections = rejections + 1\n",
    "        self.rejections = rejections\n",
    "        self.total_weight = total\n",
    "\n",
    "    def __price(self): #Calculating normal as well as discounted price and number of special packs\n",
    "        S = self.no_of_S\n",
    "        C = self.no_of_C\n",
    "        G = self.no_of_G\n",
    "        special_packs = 0\n",
    "        price = 0\n",
    "        while True:\n",
    "            if S >= 2 and G >= 2 and C >= 1:\n",
    "                S = S - 2\n",
    "                G = G - 2\n",
    "                C = C - 1\n",
    "                price = price + 10\n",
    "                special_packs += 1\n",
    "                continue\n",
    "            break\n",
    "        price = price + (3 * C)\n",
    "        price = price + (2 * G)\n",
    "        price = price + (2 * S)\n",
    "        self.special_packs = special_packs\n",
    "        self.discount_cost = price\n",
    "        self.cost = (3 * self.no_of_C) + (2 * self.no_of_G) + (2 * self.no_of_S)"
   ]
  },
  {
   "cell_type": "code",
   "execution_count": 49,
   "id": "bb2103b3",
   "metadata": {},
   "outputs": [
    {
     "ename": "KeyboardInterrupt",
     "evalue": "Interrupted by user",
     "output_type": "error",
     "traceback": [
      "\u001b[1;31m---------------------------------------------------------------------------\u001b[0m",
      "\u001b[1;31mKeyboardInterrupt\u001b[0m                         Traceback (most recent call last)",
      "Cell \u001b[1;32mIn[49], line 1\u001b[0m\n\u001b[1;32m----> 1\u001b[0m order \u001b[38;5;241m=\u001b[39m customer_order()\n",
      "Cell \u001b[1;32mIn[48], line 11\u001b[0m, in \u001b[0;36mcustomer_order.__init__\u001b[1;34m(self)\u001b[0m\n\u001b[0;32m      9\u001b[0m \u001b[38;5;28mself\u001b[39m\u001b[38;5;241m.\u001b[39mno_of_C \u001b[38;5;241m=\u001b[39m \u001b[38;5;241m0\u001b[39m\n\u001b[0;32m     10\u001b[0m \u001b[38;5;28mself\u001b[39m\u001b[38;5;241m.\u001b[39mcost \u001b[38;5;241m=\u001b[39m \u001b[38;5;241m0\u001b[39m\n\u001b[1;32m---> 11\u001b[0m \u001b[38;5;28mself\u001b[39m\u001b[38;5;241m.\u001b[39m__order()\n\u001b[0;32m     12\u001b[0m \u001b[38;5;28mself\u001b[39m\u001b[38;5;241m.\u001b[39m__calc()\n\u001b[0;32m     13\u001b[0m \u001b[38;5;28mself\u001b[39m\u001b[38;5;241m.\u001b[39m__price()\n",
      "Cell \u001b[1;32mIn[48], line 17\u001b[0m, in \u001b[0;36mcustomer_order.__order\u001b[1;34m(self)\u001b[0m\n\u001b[0;32m     15\u001b[0m \u001b[38;5;28;01mdef\u001b[39;00m \u001b[38;5;21m__order\u001b[39m(\u001b[38;5;28mself\u001b[39m): \u001b[38;5;66;03m#Private function to take order from customer\u001b[39;00m\n\u001b[0;32m     16\u001b[0m     \u001b[38;5;28;01mwhile\u001b[39;00m \u001b[38;5;28;01mTrue\u001b[39;00m:\n\u001b[1;32m---> 17\u001b[0m         letter \u001b[38;5;241m=\u001b[39m \u001b[38;5;28minput\u001b[39m(\u001b[38;5;124m\"\u001b[39m\u001b[38;5;124mPlease input which type of building material you require(S,G,C) or enter 0 to exit: \u001b[39m\u001b[38;5;124m\"\u001b[39m)\n\u001b[0;32m     18\u001b[0m         \u001b[38;5;28;01mif\u001b[39;00m letter \u001b[38;5;241m==\u001b[39m \u001b[38;5;124m\"\u001b[39m\u001b[38;5;124m0\u001b[39m\u001b[38;5;124m\"\u001b[39m:\n\u001b[0;32m     19\u001b[0m             \u001b[38;5;28;01mbreak\u001b[39;00m\n",
      "File \u001b[1;32m~\\anaconda3\\Lib\\site-packages\\ipykernel\\kernelbase.py:1175\u001b[0m, in \u001b[0;36mKernel.raw_input\u001b[1;34m(self, prompt)\u001b[0m\n\u001b[0;32m   1171\u001b[0m \u001b[38;5;28;01mif\u001b[39;00m \u001b[38;5;129;01mnot\u001b[39;00m \u001b[38;5;28mself\u001b[39m\u001b[38;5;241m.\u001b[39m_allow_stdin:\n\u001b[0;32m   1172\u001b[0m     \u001b[38;5;28;01mraise\u001b[39;00m StdinNotImplementedError(\n\u001b[0;32m   1173\u001b[0m         \u001b[38;5;124m\"\u001b[39m\u001b[38;5;124mraw_input was called, but this frontend does not support input requests.\u001b[39m\u001b[38;5;124m\"\u001b[39m\n\u001b[0;32m   1174\u001b[0m     )\n\u001b[1;32m-> 1175\u001b[0m \u001b[38;5;28;01mreturn\u001b[39;00m \u001b[38;5;28mself\u001b[39m\u001b[38;5;241m.\u001b[39m_input_request(\n\u001b[0;32m   1176\u001b[0m     \u001b[38;5;28mstr\u001b[39m(prompt),\n\u001b[0;32m   1177\u001b[0m     \u001b[38;5;28mself\u001b[39m\u001b[38;5;241m.\u001b[39m_parent_ident[\u001b[38;5;124m\"\u001b[39m\u001b[38;5;124mshell\u001b[39m\u001b[38;5;124m\"\u001b[39m],\n\u001b[0;32m   1178\u001b[0m     \u001b[38;5;28mself\u001b[39m\u001b[38;5;241m.\u001b[39mget_parent(\u001b[38;5;124m\"\u001b[39m\u001b[38;5;124mshell\u001b[39m\u001b[38;5;124m\"\u001b[39m),\n\u001b[0;32m   1179\u001b[0m     password\u001b[38;5;241m=\u001b[39m\u001b[38;5;28;01mFalse\u001b[39;00m,\n\u001b[0;32m   1180\u001b[0m )\n",
      "File \u001b[1;32m~\\anaconda3\\Lib\\site-packages\\ipykernel\\kernelbase.py:1217\u001b[0m, in \u001b[0;36mKernel._input_request\u001b[1;34m(self, prompt, ident, parent, password)\u001b[0m\n\u001b[0;32m   1214\u001b[0m             \u001b[38;5;28;01mbreak\u001b[39;00m\n\u001b[0;32m   1215\u001b[0m \u001b[38;5;28;01mexcept\u001b[39;00m \u001b[38;5;167;01mKeyboardInterrupt\u001b[39;00m:\n\u001b[0;32m   1216\u001b[0m     \u001b[38;5;66;03m# re-raise KeyboardInterrupt, to truncate traceback\u001b[39;00m\n\u001b[1;32m-> 1217\u001b[0m     \u001b[38;5;28;01mraise\u001b[39;00m \u001b[38;5;167;01mKeyboardInterrupt\u001b[39;00m(\u001b[38;5;124m\"\u001b[39m\u001b[38;5;124mInterrupted by user\u001b[39m\u001b[38;5;124m\"\u001b[39m) \u001b[38;5;28;01mfrom\u001b[39;00m \u001b[38;5;28;01mNone\u001b[39;00m\n\u001b[0;32m   1218\u001b[0m \u001b[38;5;28;01mexcept\u001b[39;00m \u001b[38;5;167;01mException\u001b[39;00m:\n\u001b[0;32m   1219\u001b[0m     \u001b[38;5;28mself\u001b[39m\u001b[38;5;241m.\u001b[39mlog\u001b[38;5;241m.\u001b[39mwarning(\u001b[38;5;124m\"\u001b[39m\u001b[38;5;124mInvalid Message:\u001b[39m\u001b[38;5;124m\"\u001b[39m, exc_info\u001b[38;5;241m=\u001b[39m\u001b[38;5;28;01mTrue\u001b[39;00m)\n",
      "\u001b[1;31mKeyboardInterrupt\u001b[0m: Interrupted by user"
     ]
    }
   ],
   "source": [
    "order = customer_order()"
   ]
  },
  {
   "cell_type": "code",
   "execution_count": null,
   "id": "212b688c",
   "metadata": {},
   "outputs": [],
   "source": [
    "order.rejections"
   ]
  },
  {
   "cell_type": "code",
   "execution_count": null,
   "id": "232b9ff8",
   "metadata": {},
   "outputs": [],
   "source": [
    "order.cost"
   ]
  },
  {
   "cell_type": "code",
   "execution_count": null,
   "id": "7b2908bf",
   "metadata": {},
   "outputs": [],
   "source": []
  }
 ],
 "metadata": {
  "kernelspec": {
   "display_name": "Python 3 (ipykernel)",
   "language": "python",
   "name": "python3"
  },
  "language_info": {
   "codemirror_mode": {
    "name": "ipython",
    "version": 3
   },
   "file_extension": ".py",
   "mimetype": "text/x-python",
   "name": "python",
   "nbconvert_exporter": "python",
   "pygments_lexer": "ipython3",
   "version": "3.11.4"
  }
 },
 "nbformat": 4,
 "nbformat_minor": 5
}
